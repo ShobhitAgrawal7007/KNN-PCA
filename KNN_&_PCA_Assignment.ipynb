{
  "nbformat": 4,
  "nbformat_minor": 0,
  "metadata": {
    "colab": {
      "provenance": []
    },
    "kernelspec": {
      "name": "python3",
      "display_name": "Python 3"
    },
    "language_info": {
      "name": "python"
    }
  },
  "cells": [
    {
      "cell_type": "markdown",
      "source": [
        "# KNN & PCA **Assignment**"
      ],
      "metadata": {
        "id": "LwYsBcGb9pwM"
      }
    },
    {
      "cell_type": "markdown",
      "source": [
        "Question 1: What is K-Nearest Neighbors (KNN) and how does it work in both\n",
        "classification and regression problems?"
      ],
      "metadata": {
        "id": "gTLCtyMu9uks"
      }
    },
    {
      "cell_type": "markdown",
      "source": [
        "K-Nearest Neighbors (KNN) is a supervised machine learning algorithm used for both classification and regression tasks. It works by finding the \"k\" most similar data points (neighbors) in the training data to a new, unseen data point and then using their labels (for classification) or values (for regression) to make a prediction. Essentially, KNN assumes that similar data points will have similar outcomes.\n",
        "\n",
        "![image.png](data:image/png;base64,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)\n",
        "\n",
        "How KNN Works in Classification:\n",
        "1. Calculate Distances:\n",
        "For a new data point, KNN calculates the distance between it and all other data points in the training set using a distance metric like Euclidean distance.\n",
        "2. Identify Nearest Neighbors:\n",
        "It then selects the \"k\" closest data points (neighbors) to the new point based on the calculated distances.\n",
        "3. Assign Class Label:\n",
        "The algorithm assigns the class label that is most frequent among these \"k\" neighbors to the new data point. For example, if the majority of the k-nearest neighbors are of class \"A\", the new data point will be classified as class \"A\".\n",
        "\n",
        "How KNN Works in Regression:\n",
        "1. Calculate Distances: Similar to classification, KNN calculates the distance between the new data point and all training data points.\n",
        "2. Identify Nearest Neighbors: It selects the \"k\" closest neighbors.\n",
        "3. Average Values: Instead of taking a majority vote, KNN averages the values of the target variable (the continuous value being predicted) for these \"k\" nearest neighbors. This average value becomes the prediction for the new data point.\n",
        "\n",
        "Key Concepts:\n",
        "1. Non-parametric:\n",
        "KNN doesn't make any assumptions about the underlying data distribution, making it flexible for various datasets.\n",
        "2. Distance Metric:\n",
        "The choice of distance metric (e.g., Euclidean, Manhattan) can affect the performance of KNN.\n",
        "3. Value of k:\n",
        "The number of neighbors (k) is a crucial hyperparameter that needs to be tuned. A small k can lead to overfitting, while a large k can lead to underfitting.\n",
        "4. Lazy Learning:\n",
        "KNN is considered a \"lazy learning\" algorithm because it doesn't explicitly learn a model during training but rather stores the training data and performs computations during prediction."
      ],
      "metadata": {
        "id": "1nYv7Fq19zar"
      }
    },
    {
      "cell_type": "markdown",
      "source": [
        "Question 2: What is the Curse of Dimensionality and how does it affect KNN\n",
        "performance?"
      ],
      "metadata": {
        "id": "oBMt9zhZ-lh8"
      }
    },
    {
      "cell_type": "markdown",
      "source": [
        "The curse of dimensionality refers to the phenomenon where machine learning algorithms struggle to perform effectively in high-dimensional spaces (many features) due to data becoming sparse and algorithms requiring significantly more data to generalize well. In KNN, this manifests as decreased accuracy and increased computational cost as the number of features increases.\n",
        "\n",
        "![image.png](data:image/png;base64,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)\n",
        "\n",
        "How it affects KNN:\n",
        "1. Increased distance between points:\n",
        "In high dimensions, data points tend to spread out, and the distance between them becomes less meaningful. This means that the nearest neighbors of a data point might not be truly similar, leading to misclassifications.\n",
        "2. Requires more data:\n",
        "To overcome the sparsity, KNN needs a massive amount of data in high dimensions to find meaningful neighbors. Insufficient data leads to overfitting, where the model learns the training data too well but performs poorly on unseen data.\n",
        "3. Computational inefficiency:\n",
        "Calculating distances between points in high dimensions can be computationally expensive, making KNN slow and resource-intensive.\n",
        "4. Overfitting:\n",
        "With many features, KNN can easily overfit the training data, capturing noise and irrelevant information. This results in poor generalization performance on new data.\n",
        "\n",
        "In essence, the curse of dimensionality makes KNN less reliable and efficient when dealing with high-dimensional data, highlighting the importance of feature selection and dimensionality reduction techniques before applying KNN."
      ],
      "metadata": {
        "id": "K4v8jSyj-vV0"
      }
    },
    {
      "cell_type": "markdown",
      "source": [
        "Question 3: What is Principal Component Analysis (PCA)? How is it different from\n",
        "feature selection?"
      ],
      "metadata": {
        "id": "0aUpG90L_krF"
      }
    },
    {
      "cell_type": "markdown",
      "source": [
        "Principal Component Analysis (PCA) and feature selection are both dimensionality reduction techniques, but they differ in their approach. PCA transforms the original features into a new set of uncorrelated features called principal components, while feature selection selects a subset of the original features. PCA aims to capture the maximum variance in the data with fewer components, whereas feature selection focuses on identifying the most relevant features for a specific task.\n",
        "\n",
        "Principal Component Analysis (PCA):\n",
        "1. Transformative:\n",
        "PCA creates new features (principal components) that are linear combinations of the original features.\n",
        "2. Unsupervised:\n",
        "PCA is typically an unsupervised learning technique, meaning it doesn't require labeled data.\n",
        "3. Focus on Variance:\n",
        "PCA identifies the principal components that explain the most variance in the data.\n",
        "4. Reduces Dimensionality:\n",
        "PCA transforms the data into a lower-dimensional space while retaining as much variance as possible.\n",
        "5. Can be used for feature extraction or dimensionality reduction.\n",
        "\n",
        "Feature Selection:\n",
        "1. Selective: Feature selection chooses a subset of the original features without creating new ones.\n",
        "2. Supervised or Unsupervised: Feature selection can be either supervised (using labels) or unsupervised.\n",
        "3. Focus on Relevance: Feature selection aims to identify the most relevant features for a specific task, such as prediction or classification.\n",
        "4. Reduces Redundancy and Noise: By selecting the most relevant features, feature selection can reduce noise and improve model performance.\n",
        "5. Directly uses original features .\n",
        "\n",
        "In essence, PCA is a technique for transforming data, while feature selection is a technique for choosing data. PCA can be used as a preprocessing step before feature selection or as a tool for dimensionality reduction, while feature selection focuses on selecting the most informative features for a given task."
      ],
      "metadata": {
        "id": "fjclO6Rz_qEM"
      }
    },
    {
      "cell_type": "markdown",
      "source": [
        "Question 4: What are eigenvalues and eigenvectors in PCA, and why are they\n",
        "important?"
      ],
      "metadata": {
        "id": "0BfOgW5gBCpZ"
      }
    },
    {
      "cell_type": "markdown",
      "source": [
        "In Principal Component Analysis (PCA), eigenvectors represent the principal components, which are the directions of maximum variance in the data. Eigenvalues indicate the amount of variance explained by each corresponding eigenvector (principal component). They are crucial for dimensionality reduction, feature extraction, and understanding data structure.\n",
        "\n",
        "Elaboration:\n",
        "1. Eigenvectors:\n",
        "\n",
        "(A). Definition:\n",
        "\n",
        "Eigenvectors are special vectors that, when transformed by a matrix (like the covariance matrix in PCA), only change in length, not direction. They point in the directions where the data varies the most.\n",
        "\n",
        "(B). Role in PCA:\n",
        "\n",
        "In PCA, the eigenvectors represent the principal components, which are new axes that capture the maximum variance in the data.\n",
        "\n",
        "(C). Example:\n",
        "\n",
        "Imagine a dataset of points scattered in an oval shape. The eigenvectors would point along the long axis (direction of greatest variance) and the short axis (direction of least variance) of the oval, according to a Quora answer.\n",
        "\n",
        "2. Eigenvalues:\n",
        "\n",
        "(A). Definition:\n",
        "\n",
        "Eigenvalues are scalar values associated with each eigenvector. They represent the magnitude of the variance along the direction of the corresponding eigenvector.\n",
        "\n",
        "(B). Role in PCA:\n",
        "\n",
        "The eigenvalues indicate how much variance is explained by each principal component (eigenvector). Larger eigenvalues mean the corresponding component explains more variance, according to an Analytics Vidhya blog post.\n",
        "\n",
        "(C). Example:\n",
        "\n",
        "In the oval-shaped data, the eigenvalue associated with the long axis would be larger than the eigenvalue associated with the short axis, indicating more variance along the long axis, according to a Quora answer.\n",
        "\n",
        "Importance in PCA:\n",
        "\n",
        "1. Dimensionality Reduction:\n",
        "By identifying the principal components (eigenvectors) with the largest eigenvalues (most variance), PCA can reduce the number of dimensions in the data while retaining most of the important information.\n",
        "2. Feature Extraction:\n",
        "The principal components (eigenvectors) can be used as new features to represent the original data. This can be useful for tasks like classification or regression.\n",
        "3. Data Understanding:\n",
        "Eigenvectors and eigenvalues help visualize and understand the underlying structure of the data. They reveal the directions of maximum variance and how much variance is captured in each direction.\n",
        "\n",
        "In essence, eigenvectors and eigenvalues in PCA provide a way to identify the most important directions in a dataset and quantify how much information is contained in each direction, enabling dimensionality reduction and better data understanding."
      ],
      "metadata": {
        "id": "vjjMAVNxBGPp"
      }
    },
    {
      "cell_type": "markdown",
      "source": [
        "Question 5: How do KNN and PCA complement each other when applied in a single\n",
        "pipeline?"
      ],
      "metadata": {
        "id": "8iqOTWoVCKz1"
      }
    },
    {
      "cell_type": "markdown",
      "source": [
        "PCA and KNN can be effectively combined in a pipeline to improve classification or regression performance. PCA, by reducing dimensionality and noise, can enhance the efficiency and accuracy of KNN, particularly with high-dimensional datasets. KNN, as a non-parametric method, benefits from PCA's ability to handle multicollinearity and reduce overfitting, leading to a more robust model.\n",
        "\n",
        "\n",
        "How they complement each other:\n",
        "1. Dimensionality Reduction:\n",
        "PCA transforms the original features into a smaller set of uncorrelated principal components, which can significantly reduce computational cost and training time for KNN, especially when dealing with high-dimensional data.\n",
        "2. Noise Reduction:\n",
        "PCA can filter out noise and irrelevant information present in the original data, leading to a cleaner dataset for KNN to work with. This can improve the accuracy and stability of the KNN model.\n",
        "3. Overfitting Prevention:\n",
        "By reducing the number of features, PCA helps mitigate the risk of overfitting, which is a common issue with KNN when the number of features is large compared to the number of training samples.\n",
        "4. Improved Accuracy:\n",
        "PCA can reveal the underlying structure of the data and highlight the most relevant features, allowing KNN to make more accurate predictions.\n",
        "5. Enhanced Interpretability:\n",
        "PCA can provide insights into the relationships between variables, potentially making the KNN model more interpretable.\n",
        "\n",
        "Example Pipeline:\n",
        "1. Data Preprocessing: Scale and standardize the data to ensure features are on a similar scale.\n",
        "2. PCA Transformation: Apply PCA to the preprocessed data to reduce dimensionality and extract principal components.\n",
        "3. KNN Modeling: Train a KNN model on the transformed data.\n",
        "4. Evaluation: Evaluate the performance of the KNN model using appropriate metrics.\n",
        "\n",
        "By combining PCA and KNN in this manner, the resulting model benefits from the strengths of both techniques, leading to improved performance and robustness."
      ],
      "metadata": {
        "id": "KQ0ZmXs3CPr0"
      }
    },
    {
      "cell_type": "markdown",
      "source": [
        "Question 6: Train a KNN Classifier on the Wine dataset with and without feature\n",
        "scaling. Compare model accuracy in both cases.\n",
        "(Include your Python code and output in the code box below.)"
      ],
      "metadata": {
        "id": "ZjoqMbrODAgk"
      }
    },
    {
      "cell_type": "code",
      "source": [
        "from sklearn.datasets import load_wine\n",
        "from sklearn.model_selection import train_test_split\n",
        "from sklearn.preprocessing import StandardScaler\n",
        "from sklearn.neighbors import KNeighborsClassifier\n",
        "from sklearn.metrics import accuracy_score\n",
        "\n",
        "# Load dataset\n",
        "wine = load_wine()\n",
        "X, y = wine.data, wine.target\n",
        "\n",
        "# Train-test split\n",
        "X_train, X_test, y_train, y_test = train_test_split(X, y, test_size=0.3, random_state=42)\n",
        "\n",
        "# Without Scaling\n",
        "knn_no_scale = KNeighborsClassifier(n_neighbors=5)\n",
        "knn_no_scale.fit(X_train, y_train)\n",
        "y_pred_no_scale = knn_no_scale.predict(X_test)\n",
        "acc_no_scale = accuracy_score(y_test, y_pred_no_scale)\n",
        "\n",
        "print(\"Accuracy without scaling:\", acc_no_scale)\n",
        "\n",
        "# With Scaling\n",
        "scaler = StandardScaler()\n",
        "X_train_scaled = scaler.fit_transform(X_train)\n",
        "X_test_scaled = scaler.transform(X_test)\n",
        "\n",
        "knn_scaled = KNeighborsClassifier(n_neighbors=5)\n",
        "knn_scaled.fit(X_train_scaled, y_train)\n",
        "y_pred_scaled = knn_scaled.predict(X_test_scaled)\n",
        "acc_scaled = accuracy_score(y_test, y_pred_scaled)\n",
        "\n",
        "print(\"Accuracy with scaling:\", acc_scaled)\n"
      ],
      "metadata": {
        "colab": {
          "base_uri": "https://localhost:8080/"
        },
        "id": "J4d5fg_2DF0z",
        "outputId": "26e4ae44-3c30-4a2f-fcb6-be86112aadeb"
      },
      "execution_count": null,
      "outputs": [
        {
          "output_type": "stream",
          "name": "stdout",
          "text": [
            "Accuracy without scaling: 0.7407407407407407\n",
            "Accuracy with scaling: 0.9629629629629629\n"
          ]
        }
      ]
    },
    {
      "cell_type": "markdown",
      "source": [
        "Question 7: Train a PCA model on the Wine dataset and print the explained variance ratio of each principal component.\n",
        "(Include your Python code and output in the code box below.)"
      ],
      "metadata": {
        "id": "85x26-kiD9s0"
      }
    },
    {
      "cell_type": "code",
      "source": [
        "from sklearn.datasets import load_wine\n",
        "from sklearn.preprocessing import StandardScaler\n",
        "from sklearn.decomposition import PCA\n",
        "import numpy as np\n",
        "\n",
        "# Load dataset\n",
        "wine = load_wine()\n",
        "X = wine.data\n",
        "\n",
        "# Standardize features (important before PCA)\n",
        "scaler = StandardScaler()\n",
        "X_scaled = scaler.fit_transform(X)\n",
        "\n",
        "# Apply PCA (keep all components)\n",
        "pca = PCA()\n",
        "pca.fit(X_scaled)\n",
        "\n",
        "# Explained variance ratio\n",
        "explained_var = pca.explained_variance_ratio_\n",
        "\n",
        "print(\"Explained variance ratio of each principal component:\")\n",
        "for i, var in enumerate(explained_var, start=1):\n",
        "    print(f\"PC{i}: {var:.4f}\")"
      ],
      "metadata": {
        "colab": {
          "base_uri": "https://localhost:8080/"
        },
        "id": "Kqz-k4uOEGKU",
        "outputId": "e3c703b6-fb78-4b4b-e599-2b1a90af05cb"
      },
      "execution_count": null,
      "outputs": [
        {
          "output_type": "stream",
          "name": "stdout",
          "text": [
            "Explained variance ratio of each principal component:\n",
            "PC1: 0.3620\n",
            "PC2: 0.1921\n",
            "PC3: 0.1112\n",
            "PC4: 0.0707\n",
            "PC5: 0.0656\n",
            "PC6: 0.0494\n",
            "PC7: 0.0424\n",
            "PC8: 0.0268\n",
            "PC9: 0.0222\n",
            "PC10: 0.0193\n",
            "PC11: 0.0174\n",
            "PC12: 0.0130\n",
            "PC13: 0.0080\n"
          ]
        }
      ]
    },
    {
      "cell_type": "markdown",
      "source": [
        "Question 8: Train a KNN Classifier on the PCA-transformed dataset (retain top 2\n",
        "components). Compare the accuracy with the original dataset.\n",
        "(Include your Python code and output in the code box below.)\n"
      ],
      "metadata": {
        "id": "bh8aZ5q1EUyg"
      }
    },
    {
      "cell_type": "code",
      "source": [
        "from sklearn.datasets import load_wine\n",
        "from sklearn.model_selection import train_test_split\n",
        "from sklearn.preprocessing import StandardScaler\n",
        "from sklearn.neighbors import KNeighborsClassifier\n",
        "from sklearn.metrics import accuracy_score\n",
        "from sklearn.decomposition import PCA\n",
        "\n",
        "# Load dataset\n",
        "wine = load_wine()\n",
        "X, y = wine.data, wine.target\n",
        "\n",
        "# Split dataset\n",
        "X_train, X_test, y_train, y_test = train_test_split(X, y, test_size=0.3, random_state=42)\n",
        "\n",
        "# Original Dataset (with scaling)\n",
        "scaler = StandardScaler()\n",
        "X_train_scaled = scaler.fit_transform(X_train)\n",
        "X_test_scaled = scaler.transform(X_test)\n",
        "\n",
        "knn_original = KNeighborsClassifier(n_neighbors=5)\n",
        "knn_original.fit(X_train_scaled, y_train)\n",
        "y_pred_original = knn_original.predict(X_test_scaled)\n",
        "acc_original = accuracy_score(y_test, y_pred_original)\n",
        "\n",
        "print(\"Accuracy on original dataset:\", acc_original)\n",
        "\n",
        "# PCA-transformed Dataset (top 2 components)\n",
        "pca = PCA(n_components=2)\n",
        "X_train_pca = pca.fit_transform(X_train_scaled)\n",
        "X_test_pca = pca.transform(X_test_scaled)\n",
        "\n",
        "knn_pca = KNeighborsClassifier(n_neighbors=5)\n",
        "knn_pca.fit(X_train_pca, y_train)\n",
        "y_pred_pca = knn_pca.predict(X_test_pca)\n",
        "acc_pca = accuracy_score(y_test, y_pred_pca)\n",
        "\n",
        "print(\"Accuracy on PCA-transformed dataset (2 components):\", acc_pca)"
      ],
      "metadata": {
        "colab": {
          "base_uri": "https://localhost:8080/"
        },
        "id": "Q0xXqPQxEZ9X",
        "outputId": "256c00f3-9ceb-414c-baa4-20a425c28693"
      },
      "execution_count": null,
      "outputs": [
        {
          "output_type": "stream",
          "name": "stdout",
          "text": [
            "Accuracy on original dataset: 0.9629629629629629\n",
            "Accuracy on PCA-transformed dataset (2 components): 0.9814814814814815\n"
          ]
        }
      ]
    },
    {
      "cell_type": "markdown",
      "source": [
        "Question 9: Train a KNN Classifier with different distance metrics (euclidean,\n",
        "manhattan) on the scaled Wine dataset and compare the results.\n",
        "(Include your Python code and output in the code box below.)\n"
      ],
      "metadata": {
        "id": "J3EIQ4H5Exxa"
      }
    },
    {
      "cell_type": "code",
      "source": [
        "from sklearn.datasets import load_wine\n",
        "from sklearn.model_selection import train_test_split\n",
        "from sklearn.preprocessing import StandardScaler\n",
        "from sklearn.neighbors import KNeighborsClassifier\n",
        "from sklearn.metrics import accuracy_score\n",
        "\n",
        "# Load dataset\n",
        "wine = load_wine()\n",
        "X, y = wine.data, wine.target\n",
        "\n",
        "# Train-test split\n",
        "X_train, X_test, y_train, y_test = train_test_split(X, y, test_size=0.3, random_state=42)\n",
        "\n",
        "# Scale features\n",
        "scaler = StandardScaler()\n",
        "X_train_scaled = scaler.fit_transform(X_train)\n",
        "X_test_scaled = scaler.transform(X_test)\n",
        "\n",
        "# KNN with Euclidean distance\n",
        "knn_euclidean = KNeighborsClassifier(n_neighbors=5, metric=\"euclidean\")\n",
        "knn_euclidean.fit(X_train_scaled, y_train)\n",
        "y_pred_euclidean = knn_euclidean.predict(X_test_scaled)\n",
        "acc_euclidean = accuracy_score(y_test, y_pred_euclidean)\n",
        "\n",
        "print(\"Accuracy with Euclidean distance:\", acc_euclidean)\n",
        "\n",
        "# KNN with Manhattan distance\n",
        "knn_manhattan = KNeighborsClassifier(n_neighbors=5, metric=\"manhattan\")\n",
        "knn_manhattan.fit(X_train_scaled, y_train)\n",
        "y_pred_manhattan = knn_manhattan.predict(X_test_scaled)\n",
        "acc_manhattan = accuracy_score(y_test, y_pred_manhattan)\n",
        "\n",
        "print(\"Accuracy with Manhattan distance:\", acc_manhattan)"
      ],
      "metadata": {
        "colab": {
          "base_uri": "https://localhost:8080/"
        },
        "id": "RSCjU8wwE3WD",
        "outputId": "20babfcb-a939-4f37-ea79-099ae6c37aab"
      },
      "execution_count": null,
      "outputs": [
        {
          "output_type": "stream",
          "name": "stdout",
          "text": [
            "Accuracy with Euclidean distance: 0.9629629629629629\n",
            "Accuracy with Manhattan distance: 0.9629629629629629\n"
          ]
        }
      ]
    },
    {
      "cell_type": "markdown",
      "source": [
        "Question 10: You are working with a high-dimensional gene expression dataset to\n",
        "classify patients with different types of cancer.\n",
        "\n",
        "Due to the large number of features and a small number of samples, traditional models overfit.\n",
        "\n",
        "Explain how you would:\n",
        "\n",
        "● Use PCA to reduce dimensionality\n",
        "\n",
        "● Decide how many components to keep\n",
        "\n",
        "● Use KNN for classification post-dimensionality reduction\n",
        "\n",
        "● Evaluate the model\n",
        "\n",
        "● Justify this pipeline to your stakeholders as a robust solution for real-world\n",
        "biomedical data\n",
        "\n",
        "(Include your Python code and output in the code box below.)"
      ],
      "metadata": {
        "id": "dhqfT6dbFlfc"
      }
    },
    {
      "cell_type": "markdown",
      "source": [
        "To tackle the problem of classifying patients with different types of cancer using a high-dimensional gene expression dataset, we can follow a structured approach that includes dimensionality reduction using Principal Component Analysis (PCA), classification using K-Nearest Neighbors (KNN), and model evaluation.\n",
        "\n",
        "Step 1: Use PCA to Reduce Dimensionality\n",
        "\n",
        "PCA is a technique that transforms the original features into a new set of features (principal components) that capture the most variance in the data. This helps in reducing the dimensionality while retaining the essential information.\n",
        "\n",
        "Step 2: Decide How Many Components to Keep\n",
        "\n",
        "To decide how many principal components to keep, we can use the explained variance ratio. We typically look for a threshold (e.g., 95% of the variance) to determine the number of components that should be retained.\n",
        "\n",
        "Step 3: Use KNN for Classification Post-Dimensionality Reduction\n",
        "\n",
        "After reducing the dimensionality of the dataset, we can apply the KNN algorithm for classification. KNN is a simple yet effective algorithm that classifies a sample based on the majority class of its nearest neighbors.\n",
        "\n",
        "Step 4: Evaluate the Model\n",
        "\n",
        "Model evaluation can be performed using metrics such as accuracy, precision, recall, and F1-score. We can also use cross-validation to ensure that our model generalizes well to unseen data.\n",
        "\n",
        "Step 5: Justify This Pipeline to Stakeholders\n",
        "\n",
        "This pipeline is robust for real-world biomedical data because:\n",
        "\n",
        "1. Dimensionality Reduction: PCA helps mitigate the curse of dimensionality, reducing overfitting and improving model performance.\n",
        "2. Simplicity and Interpretability: KNN is easy to understand and implement, making it suitable for clinical settings.\n",
        "3. Evaluation Metrics: Comprehensive evaluation ensures that the model is reliable and performs well on unseen data.\n",
        "\n",
        "Python Code Implementation:"
      ],
      "metadata": {
        "id": "zwn9n8GLF1er"
      }
    },
    {
      "cell_type": "code",
      "source": [
        "import numpy as np\n",
        "import pandas as pd\n",
        "from sklearn.datasets import load_iris\n",
        "from sklearn.model_selection import train_test_split\n",
        "from sklearn.decomposition import PCA\n",
        "from sklearn.neighbors import KNeighborsClassifier\n",
        "from sklearn.metrics import classification_report, confusion_matrix\n",
        "import matplotlib.pyplot as plt\n",
        "\n",
        "# Load dataset (for demonstration, using iris dataset)\n",
        "# Replace this with your gene expression dataset\n",
        "data = load_iris()\n",
        "X = data.data\n",
        "y = data.target\n",
        "\n",
        "# Step 1: Split the dataset into training and testing sets\n",
        "X_train, X_test, y_train, y_test = train_test_split(X, y, test_size=0.2, random_state=42)\n",
        "\n",
        "# Step 2: Apply PCA\n",
        "pca = PCA()\n",
        "X_train_pca = pca.fit_transform(X_train)\n",
        "X_test_pca = pca.transform(X_test)\n",
        "\n",
        "# Step 3: Decide how many components to keep\n",
        "explained_variance = np.cumsum(pca.explained_variance_ratio_)\n",
        "plt.figure(figsize=(8, 5))\n",
        "plt.plot(range(1, len(explained_variance) + 1), explained_variance, marker='o')\n",
        "plt.title('Explained Variance by Principal Components')\n",
        "plt.xlabel('Number of Components')\n",
        "plt.ylabel('Cumulative Explained Variance')\n",
        "plt.axhline(y=0.95, color='r', linestyle='--')\n",
        "plt.axvline(x=np.argmax(explained_variance >= 0.95) + 1, color='g', linestyle='--')\n",
        "plt.show()\n",
        "\n",
        "# Choose the number of components (e.g., 2 for 95% variance)\n",
        "n_components = np.argmax(explained_variance >= 0.95) + 1\n",
        "pca = PCA(n_components=n_components)\n",
        "X_train_pca = pca.fit_transform(X_train)\n",
        "X_test_pca = pca.transform(X_test)\n",
        "\n",
        "# Step 4: Use KNN for classification\n",
        "knn = KNeighborsClassifier(n_neighbors=3)\n",
        "knn.fit(X_train_pca, y_train)\n",
        "y_pred = knn.predict(X_test_pca)\n",
        "\n",
        "# Step 5: Evaluate the model\n",
        "print(confusion_matrix(y_test, y_pred))\n",
        "print(classification_report(y_test, y_pred))"
      ],
      "metadata": {
        "colab": {
          "base_uri": "https://localhost:8080/",
          "height": 713
        },
        "id": "lNaiSQe0JFJp",
        "outputId": "c9cec6bb-50a6-4d82-e6d2-a7398f3d94ea"
      },
      "execution_count": null,
      "outputs": [
        {
          "output_type": "display_data",
          "data": {
            "text/plain": [
              "<Figure size 800x500 with 1 Axes>"
            ],
            "image/png": "[encoded data removed]"
          },
          "metadata": {}
        },
        {
          "output_type": "stream",
          "name": "stdout",
          "text": [
            "[[10  0  0]\n",
            " [ 0  9  0]\n",
            " [ 0  0 11]]\n",
            "              precision    recall  f1-score   support\n",
            "\n",
            "           0       1.00      1.00      1.00        10\n",
            "           1       1.00      1.00      1.00         9\n",
            "           2       1.00      1.00      1.00        11\n",
            "\n",
            "    accuracy                           1.00        30\n",
            "   macro avg       1.00      1.00      1.00        30\n",
            "weighted avg       1.00      1.00      1.00        30\n",
            "\n"
          ]
        }
      ]
    }
  ]
}